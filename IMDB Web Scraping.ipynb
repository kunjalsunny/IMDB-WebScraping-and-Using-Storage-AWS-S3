{
 "cells": [
  {
   "cell_type": "code",
   "execution_count": null,
   "metadata": {
    "collapsed": true,
    "jupyter": {
     "outputs_hidden": true
    }
   },
   "outputs": [],
   "source": [
    "pip install bs4"
   ]
  },
  {
   "cell_type": "code",
   "execution_count": null,
   "metadata": {
    "collapsed": true,
    "jupyter": {
     "outputs_hidden": true
    }
   },
   "outputs": [],
   "source": [
    "pip install seaborn"
   ]
  },
  {
   "cell_type": "code",
   "execution_count": 11,
   "metadata": {
    "colab": {
     "base_uri": "https://localhost:8080/",
     "height": 423
    },
    "id": "jlTqbTEIIO-K",
    "outputId": "e24cb2fe-3ea5-4dac-e049-4f5483211f85"
   },
   "outputs": [
    {
     "data": {
      "text/html": [
       "<div>\n",
       "<style scoped>\n",
       "    .dataframe tbody tr th:only-of-type {\n",
       "        vertical-align: middle;\n",
       "    }\n",
       "\n",
       "    .dataframe tbody tr th {\n",
       "        vertical-align: top;\n",
       "    }\n",
       "\n",
       "    .dataframe thead th {\n",
       "        text-align: right;\n",
       "    }\n",
       "</style>\n",
       "<table border=\"1\" class=\"dataframe\">\n",
       "  <thead>\n",
       "    <tr style=\"text-align: right;\">\n",
       "      <th></th>\n",
       "      <th>Title</th>\n",
       "      <th>Year</th>\n",
       "      <th>Metascore</th>\n",
       "      <th>Rating</th>\n",
       "      <th>Votes</th>\n",
       "    </tr>\n",
       "  </thead>\n",
       "  <tbody>\n",
       "    <tr>\n",
       "      <th>0</th>\n",
       "      <td>Despicable Me</td>\n",
       "      <td>2010</td>\n",
       "      <td>72</td>\n",
       "      <td>7.6</td>\n",
       "      <td>None</td>\n",
       "    </tr>\n",
       "    <tr>\n",
       "      <th>1</th>\n",
       "      <td>Inception</td>\n",
       "      <td>2010</td>\n",
       "      <td>74</td>\n",
       "      <td>8.8</td>\n",
       "      <td>None</td>\n",
       "    </tr>\n",
       "    <tr>\n",
       "      <th>2</th>\n",
       "      <td>Shutter Island</td>\n",
       "      <td>2010</td>\n",
       "      <td>63</td>\n",
       "      <td>8.2</td>\n",
       "      <td>None</td>\n",
       "    </tr>\n",
       "    <tr>\n",
       "      <th>3</th>\n",
       "      <td>Incendies</td>\n",
       "      <td>2010</td>\n",
       "      <td>80</td>\n",
       "      <td>8.3</td>\n",
       "      <td>None</td>\n",
       "    </tr>\n",
       "    <tr>\n",
       "      <th>4</th>\n",
       "      <td>Grown Ups</td>\n",
       "      <td>2010</td>\n",
       "      <td>30</td>\n",
       "      <td>6.0</td>\n",
       "      <td>None</td>\n",
       "    </tr>\n",
       "    <tr>\n",
       "      <th>5</th>\n",
       "      <td>Percy Jackson &amp; the Olympians: The Lightning ...</td>\n",
       "      <td>2010</td>\n",
       "      <td>47</td>\n",
       "      <td>5.9</td>\n",
       "      <td>None</td>\n",
       "    </tr>\n",
       "    <tr>\n",
       "      <th>6</th>\n",
       "      <td>Black Swan</td>\n",
       "      <td>2010</td>\n",
       "      <td>79</td>\n",
       "      <td>8.0</td>\n",
       "      <td>None</td>\n",
       "    </tr>\n",
       "    <tr>\n",
       "      <th>7</th>\n",
       "      <td>The Town</td>\n",
       "      <td>2010</td>\n",
       "      <td>74</td>\n",
       "      <td>7.5</td>\n",
       "      <td>None</td>\n",
       "    </tr>\n",
       "    <tr>\n",
       "      <th>8</th>\n",
       "      <td>The Other Guys</td>\n",
       "      <td>2010</td>\n",
       "      <td>64</td>\n",
       "      <td>6.6</td>\n",
       "      <td>None</td>\n",
       "    </tr>\n",
       "    <tr>\n",
       "      <th>9</th>\n",
       "      <td>Piranha 3D</td>\n",
       "      <td>2010</td>\n",
       "      <td>53</td>\n",
       "      <td>5.5</td>\n",
       "      <td>None</td>\n",
       "    </tr>\n",
       "    <tr>\n",
       "      <th>10</th>\n",
       "      <td>Scott Pilgrim vs. the World</td>\n",
       "      <td>2010</td>\n",
       "      <td>69</td>\n",
       "      <td>7.6</td>\n",
       "      <td>None</td>\n",
       "    </tr>\n",
       "    <tr>\n",
       "      <th>11</th>\n",
       "      <td>Despicable Me</td>\n",
       "      <td>2010</td>\n",
       "      <td>72</td>\n",
       "      <td>7.6</td>\n",
       "      <td>None</td>\n",
       "    </tr>\n",
       "    <tr>\n",
       "      <th>12</th>\n",
       "      <td>Inception</td>\n",
       "      <td>2010</td>\n",
       "      <td>74</td>\n",
       "      <td>8.8</td>\n",
       "      <td>None</td>\n",
       "    </tr>\n",
       "    <tr>\n",
       "      <th>13</th>\n",
       "      <td>Shutter Island</td>\n",
       "      <td>2010</td>\n",
       "      <td>63</td>\n",
       "      <td>8.2</td>\n",
       "      <td>None</td>\n",
       "    </tr>\n",
       "    <tr>\n",
       "      <th>14</th>\n",
       "      <td>Incendies</td>\n",
       "      <td>2010</td>\n",
       "      <td>80</td>\n",
       "      <td>8.3</td>\n",
       "      <td>None</td>\n",
       "    </tr>\n",
       "    <tr>\n",
       "      <th>15</th>\n",
       "      <td>Grown Ups</td>\n",
       "      <td>2010</td>\n",
       "      <td>30</td>\n",
       "      <td>6.0</td>\n",
       "      <td>None</td>\n",
       "    </tr>\n",
       "    <tr>\n",
       "      <th>16</th>\n",
       "      <td>Percy Jackson &amp; the Olympians: The Lightning ...</td>\n",
       "      <td>2010</td>\n",
       "      <td>47</td>\n",
       "      <td>5.9</td>\n",
       "      <td>None</td>\n",
       "    </tr>\n",
       "    <tr>\n",
       "      <th>17</th>\n",
       "      <td>Black Swan</td>\n",
       "      <td>2010</td>\n",
       "      <td>79</td>\n",
       "      <td>8.0</td>\n",
       "      <td>None</td>\n",
       "    </tr>\n",
       "    <tr>\n",
       "      <th>18</th>\n",
       "      <td>The Town</td>\n",
       "      <td>2010</td>\n",
       "      <td>74</td>\n",
       "      <td>7.5</td>\n",
       "      <td>None</td>\n",
       "    </tr>\n",
       "    <tr>\n",
       "      <th>19</th>\n",
       "      <td>The Other Guys</td>\n",
       "      <td>2010</td>\n",
       "      <td>64</td>\n",
       "      <td>6.6</td>\n",
       "      <td>None</td>\n",
       "    </tr>\n",
       "  </tbody>\n",
       "</table>\n",
       "</div>"
      ],
      "text/plain": [
       "                                                Title  Year Metascore Rating  \\\n",
       "0                                       Despicable Me  2010        72   7.6    \n",
       "1                                           Inception  2010        74   8.8    \n",
       "2                                      Shutter Island  2010        63   8.2    \n",
       "3                                           Incendies  2010        80   8.3    \n",
       "4                                           Grown Ups  2010        30   6.0    \n",
       "5    Percy Jackson & the Olympians: The Lightning ...  2010        47   5.9    \n",
       "6                                          Black Swan  2010        79   8.0    \n",
       "7                                            The Town  2010        74   7.5    \n",
       "8                                      The Other Guys  2010        64   6.6    \n",
       "9                                          Piranha 3D  2010        53   5.5    \n",
       "10                        Scott Pilgrim vs. the World  2010        69   7.6    \n",
       "11                                      Despicable Me  2010        72   7.6    \n",
       "12                                          Inception  2010        74   8.8    \n",
       "13                                     Shutter Island  2010        63   8.2    \n",
       "14                                          Incendies  2010        80   8.3    \n",
       "15                                          Grown Ups  2010        30   6.0    \n",
       "16   Percy Jackson & the Olympians: The Lightning ...  2010        47   5.9    \n",
       "17                                         Black Swan  2010        79   8.0    \n",
       "18                                           The Town  2010        74   7.5    \n",
       "19                                     The Other Guys  2010        64   6.6    \n",
       "\n",
       "   Votes  \n",
       "0   None  \n",
       "1   None  \n",
       "2   None  \n",
       "3   None  \n",
       "4   None  \n",
       "5   None  \n",
       "6   None  \n",
       "7   None  \n",
       "8   None  \n",
       "9   None  \n",
       "10  None  \n",
       "11  None  \n",
       "12  None  \n",
       "13  None  \n",
       "14  None  \n",
       "15  None  \n",
       "16  None  \n",
       "17  None  \n",
       "18  None  \n",
       "19  None  "
      ]
     },
     "execution_count": 11,
     "metadata": {},
     "output_type": "execute_result"
    }
   ],
   "source": [
    "from requests import get\n",
    "from bs4 import BeautifulSoup\n",
    "from warnings import warn\n",
    "from time import sleep\n",
    "import datetime\n",
    "from random import randint\n",
    "import numpy as np\n",
    "import pandas as pd\n",
    "import seaborn as sns\n",
    "import matplotlib.pyplot as plt\n",
    "import requests\n",
    "from urllib.parse import urlparse, parse_qs, urlunparse, urlencode\n",
    "\n",
    "HEADERS = {'User-Agent': 'Mozilla/5.0 (iPad; CPU OS 12_2 like Mac OS X) AppleWebKit/605.1.15 (KHTML, like Gecko) Mobile/15E148'}\n",
    "\n",
    "# Base URL with a year parameter\n",
    "base_url = 'https://www.imdb.com/search/title/?year='\n",
    "\n",
    "movie_array = []\n",
    "\n",
    "# Define a list of years to loop through\n",
    "start_year = 2010\n",
    "end_year = 2012\n",
    "years = range(start_year, end_year)\n",
    "\n",
    "max_requests = 70  # Set the maximum number of requests allowed\n",
    "request_count = 0\n",
    "pages = np.arange(1, 251, 50)\n",
    "\n",
    "for year in years:\n",
    "    #print(year)\n",
    "    # sleep(randint(8,15))\n",
    "    for page in pages:\n",
    "        # sleep(randint(8,15))\n",
    "        #print(year)\n",
    "        # concatenating the url and creating a target url\n",
    "        url_year = base_url + str(year) + '&start=' + str(page)\n",
    "        #print(url_year)\n",
    "        try:\n",
    "            response = requests.get(url_year, headers=HEADERS)\n",
    "            #print(response)\n",
    "    \n",
    "            # throw warning for status codes that are not 200\n",
    "            if response.status_code != 200:\n",
    "                warn('Request: {}; Status code: {}'.format(requests, response.status_code))\n",
    "            soup = BeautifulSoup(response.text, 'lxml')\n",
    "            request_count += 1\n",
    "      \n",
    "            # check for max request\n",
    "            if request_count > max_requests:\n",
    "                break\n",
    "                  \n",
    "            # sleep(randint(8,15))\n",
    "            container = soup.findAll('li', class_=\"ipc-metadata-list-summary-item\")\n",
    "            \n",
    "\n",
    "            for moviecontainer in container:\n",
    "                score= moviecontainer.find('span',class_=\"metacritic-score-box\")\n",
    "                #print(score)\n",
    "                if score is not None:\n",
    "                 \n",
    "                  title= moviecontainer.h3.text.strip('-,() ')[3:]\n",
    "                  #print(title)\n",
    "                  metascore=score.text.strip()\n",
    "                  #print(metascore)       \n",
    "                  \n",
    "#                   #year_o= moviecontainer.find(class_='lister-item-year').text.strip('-,() ')[-4:]\n",
    "                  year= moviecontainer.find('span',class_=\"dli-title-metadata-item\").text\n",
    "                  #print(year)\n",
    "        \n",
    "                 \n",
    "                  rating= moviecontainer.find('span',class_=\"ipc-rating-star--imdb\").text.strip('-,() ')[0:4]\n",
    "                  #print(rating)\n",
    "        \n",
    "#                   # votes = moviecontainer.find('span', {'name': 'nv'}).text.strip() \n",
    "                  votes = moviecontainer.find('div', class_=\"ipc-rating-star--voteCount\")\n",
    "                  #print(votes)\n",
    "                  if votes:\n",
    "                      votes = moviecontainer.find('span', class_=\"ipc-rating-star--voteCount\").text.strip('-,() ')[-6:]\n",
    "                      #print(votes)\n",
    "                  movie_array.append([title,year,metascore,rating,votes])\n",
    "                  #print(movie_array)\n",
    "            \n",
    "        except requests.exceptions.RequestException as e:\n",
    "            print(f\"An error occurred: {e}\")\n",
    "\n",
    "df = pd.DataFrame(movie_array, columns=['Title','Year','Metascore','Rating','Votes'])\n",
    "df.head(20)\n"
   ]
  },
  {
   "cell_type": "code",
   "execution_count": 13,
   "metadata": {
    "id": "JFniO_n2mSz1"
   },
   "outputs": [],
   "source": [
    "df.to_csv('web-scrapping-movies1-raw.csv', encoding='utf-8')"
   ]
  },
  {
   "cell_type": "code",
   "execution_count": 15,
   "metadata": {},
   "outputs": [
    {
     "data": {
      "text/html": [
       "<div>\n",
       "<style scoped>\n",
       "    .dataframe tbody tr th:only-of-type {\n",
       "        vertical-align: middle;\n",
       "    }\n",
       "\n",
       "    .dataframe tbody tr th {\n",
       "        vertical-align: top;\n",
       "    }\n",
       "\n",
       "    .dataframe thead th {\n",
       "        text-align: right;\n",
       "    }\n",
       "</style>\n",
       "<table border=\"1\" class=\"dataframe\">\n",
       "  <thead>\n",
       "    <tr style=\"text-align: right;\">\n",
       "      <th></th>\n",
       "      <th>Title</th>\n",
       "      <th>Year</th>\n",
       "      <th>Metascore</th>\n",
       "      <th>Rating</th>\n",
       "      <th>Votes</th>\n",
       "    </tr>\n",
       "  </thead>\n",
       "  <tbody>\n",
       "    <tr>\n",
       "      <th>0</th>\n",
       "      <td>Despicable Me</td>\n",
       "      <td>2010</td>\n",
       "      <td>72</td>\n",
       "      <td>7.6</td>\n",
       "      <td>None</td>\n",
       "    </tr>\n",
       "    <tr>\n",
       "      <th>1</th>\n",
       "      <td>Inception</td>\n",
       "      <td>2010</td>\n",
       "      <td>74</td>\n",
       "      <td>8.8</td>\n",
       "      <td>None</td>\n",
       "    </tr>\n",
       "    <tr>\n",
       "      <th>2</th>\n",
       "      <td>Shutter Island</td>\n",
       "      <td>2010</td>\n",
       "      <td>63</td>\n",
       "      <td>8.2</td>\n",
       "      <td>None</td>\n",
       "    </tr>\n",
       "    <tr>\n",
       "      <th>3</th>\n",
       "      <td>Incendies</td>\n",
       "      <td>2010</td>\n",
       "      <td>80</td>\n",
       "      <td>8.3</td>\n",
       "      <td>None</td>\n",
       "    </tr>\n",
       "    <tr>\n",
       "      <th>4</th>\n",
       "      <td>Grown Ups</td>\n",
       "      <td>2010</td>\n",
       "      <td>30</td>\n",
       "      <td>6.0</td>\n",
       "      <td>None</td>\n",
       "    </tr>\n",
       "  </tbody>\n",
       "</table>\n",
       "</div>"
      ],
      "text/plain": [
       "             Title  Year Metascore Rating Votes\n",
       "0    Despicable Me  2010        72   7.6   None\n",
       "1        Inception  2010        74   8.8   None\n",
       "2   Shutter Island  2010        63   8.2   None\n",
       "3        Incendies  2010        80   8.3   None\n",
       "4        Grown Ups  2010        30   6.0   None"
      ]
     },
     "execution_count": 15,
     "metadata": {},
     "output_type": "execute_result"
    }
   ],
   "source": [
    "\n",
    "df.head()\n",
    "#df.to_csv('web-scrapping-movies1.csv', encoding='utf-8')"
   ]
  },
  {
   "cell_type": "code",
   "execution_count": null,
   "metadata": {
    "collapsed": true,
    "jupyter": {
     "outputs_hidden": true
    }
   },
   "outputs": [],
   "source": [
    "!pip install boto3"
   ]
  },
  {
   "cell_type": "code",
   "execution_count": null,
   "metadata": {
    "collapsed": true,
    "jupyter": {
     "outputs_hidden": true
    }
   },
   "outputs": [],
   "source": [
    "import boto3\n",
    "\n",
    "def upload_to_s3(file_name, bucket_name, object_name=None):\n",
    "    object_name = object_name\n",
    "    s3_client = boto3.client('s3')\n",
    "    s3_client.upload_file(file_name, bucket_name, object_name)\n",
    "    return True\n",
    "\n",
    "file_name = 'Your_File_Name' \n",
    "bucket_name = 'bucket_name'  # Your S3 bucket name\n",
    "object_name = 'object_name'  # The name of the object in S3 (can include folder path)\n",
    "\n",
    "\n",
    "upload_success = upload_to_s3(file_name, bucket_name, object_name)\n",
    "if upload_success:\n",
    "    print(f\"File {file_name} uploaded successfully to {bucket_name}/{object_name}\")\n",
    "else:\n",
    "    print(\"File upload failed\")\n"
   ]
  },
  {
   "cell_type": "code",
   "execution_count": 9,
   "metadata": {
    "colab": {
     "base_uri": "https://localhost:8080/",
     "height": 884
    },
    "id": "JWzlvGiFf9Ge",
    "outputId": "41a8ed6f-9834-4c54-abb4-b47441cc93e3"
   },
   "outputs": [
    {
     "data": {
      "image/png": "[encoded data removed]",
      "text/plain": [
       "<Figure size 1500x500 with 1 Axes>"
      ]
     },
     "metadata": {},
     "output_type": "display_data"
    },
    {
     "data": {
      "image/png": "[encoded data removed]",
      "text/plain": [
       "<Figure size 1500x500 with 1 Axes>"
      ]
     },
     "metadata": {},
     "output_type": "display_data"
    }
   ],
   "source": [
    "# Plot histograms\n",
    "plt.figure(figsize=(15, 5))\n",
    "\n",
    "# Histogram for IMDb ratings\n",
    "plt.hist(df['Rating'], bins=10, edgecolor='k')\n",
    "plt.title('IMDB Ratings')\n",
    "plt.xlabel('IMDB Rating')\n",
    "plt.ylabel('Frequency')\n",
    "plt.xticks(rotation=45)\n",
    "plt.show()\n",
    "# Histogram for Metascore ratings\n",
    "plt.figure(figsize=(15, 5))\n",
    "plt.hist(df['Metascore'], bins=10, edgecolor='k', color='orange')\n",
    "plt.title('Metascore')\n",
    "plt.xlabel('Metascore')\n",
    "plt.ylabel('Frequency')\n",
    "plt.xticks(rotation=45)\n",
    "plt.show()\n",
    "\n",
    "\n",
    "\n",
    "\n",
    "\n"
   ]
  },
  {
   "cell_type": "code",
   "execution_count": null,
   "metadata": {
    "collapsed": true,
    "jupyter": {
     "outputs_hidden": true
    }
   },
   "outputs": [],
   "source": []
  },
  {
   "cell_type": "code",
   "execution_count": null,
   "metadata": {
    "collapsed": true,
    "jupyter": {
     "outputs_hidden": true
    }
   },
   "outputs": [],
   "source": []
  },
  {
   "cell_type": "code",
   "execution_count": null,
   "metadata": {
    "collapsed": true,
    "jupyter": {
     "outputs_hidden": true
    }
   },
   "outputs": [],
   "source": []
  },
  {
   "cell_type": "code",
   "execution_count": 48,
   "metadata": {
    "collapsed": true,
    "jupyter": {
     "outputs_hidden": true
    }
   },
   "outputs": [],
   "source": []
  },
  {
   "cell_type": "code",
   "execution_count": null,
   "metadata": {
    "collapsed": true,
    "jupyter": {
     "outputs_hidden": true
    }
   },
   "outputs": [],
   "source": []
  },
  {
   "cell_type": "code",
   "execution_count": null,
   "metadata": {
    "collapsed": true,
    "jupyter": {
     "outputs_hidden": true
    }
   },
   "outputs": [],
   "source": []
  },
  {
   "cell_type": "code",
   "execution_count": null,
   "metadata": {
    "collapsed": true,
    "jupyter": {
     "outputs_hidden": true
    }
   },
   "outputs": [],
   "source": []
  }
 ],
 "metadata": {
  "colab": {
   "provenance": []
  },
  "kernelspec": {
   "display_name": "Python 3 (ipykernel)",
   "language": "python",
   "name": "python3"
  },
  "language_info": {
   "codemirror_mode": {
    "name": "ipython",
    "version": 3
   },
   "file_extension": ".py",
   "mimetype": "text/x-python",
   "name": "python",
   "nbconvert_exporter": "python",
   "pygments_lexer": "ipython3",
   "version": "3.11.7"
  }
 },
 "nbformat": 4,
 "nbformat_minor": 4
}
